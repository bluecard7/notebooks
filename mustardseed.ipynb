{
 "cells": [
  {
   "cell_type": "code",
   "execution_count": 1,
   "metadata": {},
   "outputs": [
    {
     "data": {
      "text/plain": [
       "'1.7.1'"
      ]
     },
     "execution_count": 1,
     "metadata": {},
     "output_type": "execute_result"
    }
   ],
   "source": [
    "import torch\n",
    "torch.__version__"
   ]
  },
  {
   "cell_type": "code",
   "execution_count": 2,
   "metadata": {},
   "outputs": [
    {
     "data": {
      "text/plain": [
       "True"
      ]
     },
     "execution_count": 2,
     "metadata": {},
     "output_type": "execute_result"
    }
   ],
   "source": [
    "torch.cuda.is_available()"
   ]
  },
  {
   "cell_type": "code",
   "execution_count": 3,
   "metadata": {},
   "outputs": [
    {
     "name": "stdout",
     "output_type": "stream",
     "text": [
      "Number of CUDA-enabled GPUs: 1\n",
      "Current Device ID: 0\n",
      "Current Device Name: GeForce GTX 1650\n"
     ]
    }
   ],
   "source": [
    "device_cnt = torch.cuda.device_count()\n",
    "cur_device = torch.cuda.current_device()\n",
    "device_name = torch.cuda.get_device_name(cur_device)\n",
    "\n",
    "print(f\"Number of CUDA-enabled GPUs: {device_cnt}\\nCurrent Device ID: {cur_device}\\nCurrent Device Name: {device_name}\")"
   ]
  },
  {
   "cell_type": "markdown",
   "metadata": {},
   "source": [
    "Data is downloaded from: https://www.kaggle.com/borismarjanovic/price-volume-data-for-all-us-stocks-etfs\n",
    "\n",
    "(just using the Stocks data, not ETF)"
   ]
  },
  {
   "cell_type": "code",
   "execution_count": 14,
   "metadata": {},
   "outputs": [
    {
     "name": "stdout",
     "output_type": "stream",
     "text": [
      "Stocks data exists\n"
     ]
    }
   ],
   "source": [
    "from fastai.data.all import file_extract\n",
    "from pathlib import Path\n",
    "\n",
    "if not Path('./Stocks').exists():\n",
    "    file_extract('./Stocks.zip', '.')\n",
    "else:\n",
    "    print('Stocks data exists')"
   ]
  },
  {
   "cell_type": "code",
   "execution_count": 20,
   "metadata": {},
   "outputs": [],
   "source": [
    "from fastai.data.all import *"
   ]
  },
  {
   "cell_type": "code",
   "execution_count": 21,
   "metadata": {},
   "outputs": [
    {
     "data": {
      "text/plain": [
       "(#7195) [Path('Stocks/a.us.txt'),Path('Stocks/aa.us.txt'),Path('Stocks/aaap.us.txt'),Path('Stocks/aaba.us.txt'),Path('Stocks/aac.us.txt'),Path('Stocks/aal.us.txt'),Path('Stocks/aamc.us.txt'),Path('Stocks/aame.us.txt'),Path('Stocks/aan.us.txt'),Path('Stocks/aaoi.us.txt')...]"
      ]
     },
     "execution_count": 21,
     "metadata": {},
     "output_type": "execute_result"
    }
   ],
   "source": [
    "get_files('./Stocks')"
   ]
  },
  {
   "cell_type": "code",
   "execution_count": null,
   "metadata": {},
   "outputs": [],
   "source": [
    "DataBlock(\n",
    "    blocks = (, CategoryBlock)\n",
    "    get_items = get_files\n",
    "    get_y = # determine high-growth or not \n",
    ")"
   ]
  }
 ],
 "metadata": {
  "kernelspec": {
   "display_name": "Python 3 (fastai)",
   "language": "python",
   "name": "learn-fastai"
  },
  "language_info": {
   "codemirror_mode": {
    "name": "ipython",
    "version": 3
   },
   "file_extension": ".py",
   "mimetype": "text/x-python",
   "name": "python",
   "nbconvert_exporter": "python",
   "pygments_lexer": "ipython3",
   "version": "3.8.5"
  }
 },
 "nbformat": 4,
 "nbformat_minor": 4
}
